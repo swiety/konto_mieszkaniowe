{
 "cells": [
  {
   "cell_type": "markdown",
   "metadata": {},
   "source": [
    "# Konto Mieszkaniowe\n",
    "\n",
    "## Podsumowanie\n",
    "\n",
    "* na pierwsze mieszkanie (z wyjątkami) dla osób od 13 do 45 roku życia.\n",
    "* oszczędzanie 3-10 lat, potem max 5 lat na zakup mieszkania/nieruchomości.\n",
    "* wymaga regularnego (min. 11 miesięcznych rat każdego roku, każda od 500-2000 zł).\n",
    "* państwo gwarantuje premię (po spełnieniu warunków) w wysokości inflacji lub wzrostu cen mieszkań (większy z tych wskaźników), `1% < premia < 15%`\n",
    "* dodatkowo bank wypłaca odsetki w wysokści co najmniej 75% standardowej ofery lokaty banku.  Od tych odsetek nie płacimy podatku Belki.\n",
    "* max. jedno konto na osobę, przy czym konto jest prowadzone w imieniu dziecka a nie rodzica w przypadku niepełnoletnich dzieci.\n",
    "\n",
    "## Podstawa Prawna\n",
    "\n",
    "* Ustawa z dnia 26 maja 2023 r. o pomocy państwa w oszczędzaniu na cele mieszkaniowe ([Dz.U. poz. 1114](https://dziennikustaw.gov.pl/DU/2023/1114))\n",
    "* Ustawa z dnia 1 października 2021 r. o rodzinnym kredycie mieszkaniowym i bezpiecznym kredycie 2% ([Dz. U. 2021 r. poz. 2133](https://isap.sejm.gov.pl/isap.nsf/DocDetails.xsp?id=WDU20210002133))\n",
    "\n",
    "## Materiały\n",
    "\n",
    "* [PierwszeMieszkanie.gov.pl](https://pierwszemieszkanie.gov.pl/)\n",
    "* [gov.pl: Ministerstwo Rozwoju i Technologii: Konto Mieszkaniowe](https://www.gov.pl/web/rozwoj-technologia/konto-mieszkaniowe)\n",
    "* [gov.pl: Ministerstwo Rozwoju i Technologii: Program Pierwsze Mieszkanie](https://www.gov.pl/web/rozwoj-technologia/pierwsze-mieszkanie)\n",
    "* [bgk.pl: Konto Mieszkaniowe / Program Pierwsze Mieszkanie: O produkcie](https://www.bgk.pl/osoby-prywatne/mieszkalnictwo/konto-mieszkaniowe/#c28296)\n",
    "* [bgk.pl: Konto Mieszkaniowe / Program Pierwsze Mieszkanie: Lista banków prowadzących Konto Mieszkaniowe](https://www.bgk.pl/osoby-prywatne/mieszkalnictwo/konto-mieszkaniowe/#c28304)\n",
    "* [Subiektywnie o Finansach: W pierwszym banku już dziś założysz Konto Mieszkaniowe!](https://subiektywnieofinansach.pl/od-dzis-zalozysz-konto-mieszkaniowe-w-pierwszym-banki-warto/)\n",
    "* [Marcin Iwuć: Konto Mieszkaniowe - czy to się opłaca?](https://marciniwuc.com/konto-mieszkaniowe/)"
   ]
  },
  {
   "cell_type": "markdown",
   "metadata": {},
   "source": [
    "## Kod do wyliczenia szacowanych zysków"
   ]
  },
  {
   "cell_type": "markdown",
   "metadata": {},
   "source": [
    "## Test symulatora\n",
    "Liczymy scenariusz ze stron rządowych [PierwszeMieszkanie.gov.pl](https://pierwszemieszkanie.gov.pl/), a konkretnie ten scenariusz:\n",
    "<img src=\"https://www.gov.pl/photo/d64c123f-f6b6-4e32-982c-ae85680f408d\" width=\"500\"/>\n",
    "Czyli:\n",
    "\n",
    "* 3 lata oszczędzania\n",
    "* po 1000zł miesięcznie\n",
    "* przy 9.6% inflacji przez wszystkie 3 lata, wskaźnik wzrostu cen m2 nieistotny\n"
   ]
  },
  {
   "cell_type": "code",
   "execution_count": null,
   "metadata": {},
   "outputs": [],
   "source": [
    "from konmiesz import *\n",
    "\n",
    "df_inflacja1 = zalozenia_inflacji_i_wzrostu_m2(\n",
    "    inflacja=[pct/100 for pct in [9.6] * 3], wzrost_m2=None)\n",
    "df_konto1_styled, df_roczne1_styled, df_konto1, _ = symulacja_konta(\n",
    "    data_startu='2024-01', ile_lat=3, ile_wplat=3*12, wysokosc_wplat=1000,\n",
    "    premia=df_inflacja1)\n",
    "rysuj_wykres_lokaty(df_konto1)\n",
    "display(formatuj_inflacje(df_inflacja1))\n",
    "display(df_roczne1_styled)\n",
    "display(df_konto1_styled)"
   ]
  },
  {
   "cell_type": "markdown",
   "metadata": {},
   "source": [
    "## Założenia inflacji i wzrostu cen nieruchomości\n",
    "\n",
    "Prognozy inflacji oparte o [Polski Instytut Ekonomiczny: Struktura inflacji CPI – prognoza PIE](https://pie.net.pl/prognozy/) i długoterminowy cel inflacyjny NBP (2.5%).\n",
    "\n",
    "Dla prostoty na razie nie uwzględniam wzrostu cen nieruchomości, który w niektórych latach może przekraczać inflację i zwiększyłby wysokość premii mieszkaniowej."
   ]
  },
  {
   "cell_type": "markdown",
   "metadata": {},
   "source": [
    "## Symulacja oszczędzania"
   ]
  },
  {
   "cell_type": "code",
   "execution_count": null,
   "metadata": {},
   "outputs": [],
   "source": [
    "df_inflacja2 = zalozenia_inflacji_i_wzrostu_m2(\n",
    "    inflacja=[pct/100 for pct in [7.6, 4.3] + [2.5] * 8], wzrost_m2=None)\n",
    "df_konto2_styled, df_roczne2_styled, df_konto2, _ = symulacja_konta(\n",
    "    data_startu='2024-01', ile_lat=10, ile_wplat=10*12, wysokosc_wplat=1000,\n",
    "    premia=df_inflacja2)\n",
    "\n",
    "rysuj_wykres_lokaty(df_konto2)\n",
    "display(formatuj_inflacje(df_inflacja2))\n",
    "display(df_roczne2_styled)\n",
    "display(df_konto2_styled)"
   ]
  }
 ],
 "metadata": {
  "kernelspec": {
   "display_name": "Python 3",
   "language": "python",
   "name": "python3"
  },
  "language_info": {
   "codemirror_mode": {
    "name": "ipython",
    "version": 3
   },
   "file_extension": ".py",
   "mimetype": "text/x-python",
   "name": "python",
   "nbconvert_exporter": "python",
   "pygments_lexer": "ipython3",
   "version": "3.11.4"
  },
  "orig_nbformat": 4,
  "vscode": {
   "interpreter": {
    "hash": "aee8b7b246df8f9039afb4144a1f6fd8d2ca17a180786b69acc140d282b71a49"
   }
  }
 },
 "nbformat": 4,
 "nbformat_minor": 2
}
